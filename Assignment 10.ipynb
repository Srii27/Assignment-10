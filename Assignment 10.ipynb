{
 "cells": [
  {
   "cell_type": "markdown",
   "id": "16912bec",
   "metadata": {},
   "source": [
    "# ASSIGNMENT-10"
   ]
  },
  {
   "cell_type": "markdown",
   "id": "01221ff5",
   "metadata": {},
   "source": [
    "1. How do you distinguish between shutil.copy() and shutil.copytree()?\n",
    "\n",
    "\n"
   ]
  },
  {
   "cell_type": "code",
   "execution_count": 1,
   "id": "a47df1a0",
   "metadata": {},
   "outputs": [],
   "source": [
    "#Ans: shutil.copy() function move a particular file and shutil.copytree() move the complete folder."
   ]
  },
  {
   "cell_type": "markdown",
   "id": "75211dcc",
   "metadata": {},
   "source": [
    "2. What function is used to rename files??"
   ]
  },
  {
   "cell_type": "code",
   "execution_count": 2,
   "id": "e806d656",
   "metadata": {},
   "outputs": [],
   "source": [
    "#Ans: shutil.move() function used to rename the file as well as to move them."
   ]
  },
  {
   "cell_type": "markdown",
   "id": "46c18d27",
   "metadata": {},
   "source": [
    "3. What is the difference between the delete functions in the send2trash and shutil modules?\n"
   ]
  },
  {
   "cell_type": "code",
   "execution_count": 3,
   "id": "482de3c9",
   "metadata": {},
   "outputs": [],
   "source": [
    "#Ans: The send2trash function will send the deleted files to the recycle bin and shutil functions will permanently delete the file or folders. \n"
   ]
  },
  {
   "cell_type": "markdown",
   "id": "53399f40",
   "metadata": {},
   "source": [
    "4. ZipFile objects have a close() method just like File objects’ close() method. What ZipFile method is equivalent to File objects’ open() method?\n"
   ]
  },
  {
   "cell_type": "code",
   "execution_count": 4,
   "id": "4457e990",
   "metadata": {},
   "outputs": [],
   "source": [
    "#Ans: The zipfile.ZipFile() fuctions is equivalent to File objects open() method; where the first argument is the zip file name\n",
    "#and the second argument is the mode in which zip file to open(read,write,append)"
   ]
  },
  {
   "cell_type": "markdown",
   "id": "e4fb7683",
   "metadata": {},
   "source": [
    "5. Create a programme that searches a folder tree for files with a certain file extension (such as .pdf or .jpg). Copy these files from whatever location they are in to a new folder.\n"
   ]
  },
  {
   "cell_type": "code",
   "execution_count": null,
   "id": "3023bdf6",
   "metadata": {},
   "outputs": [],
   "source": [
    "import os\n",
    "if 'taskfolder' in os.listdir('C:\\\\Users\\\\Sri\\\\Sri Assg'):\n",
    "    os.chdir('C:\\\\Users\\\\Sri\\\\Sri Assg\\\\taskfolder')\n",
    "    for i in range(3):\n",
    "        f=open('check'+str(i)+'.txt','x')\n",
    "        f.close()\n",
    "import shutil\n",
    "shutil.move('C:\\\\Users\\\\Sri\\\\Sri Assg\\\\taskfolder','C:\\\\Users\\\\Sri\\\\Downloads\\\\Newtaskfolder')\n",
    "\n",
    "else:\n",
    "    os.mkdir('taskfolder')\n",
    "    os.chdir('C:\\\\Users\\\\Sri\\\\Sri Assg\\\\taskfolder')\n",
    "    for i in range(3):\n",
    "        f=open('check'+str(i)+'.txt','x')\n",
    "        f.close()\n",
    "import shutil\n",
    "shutil.move('C:\\\\Users\\\\Sri\\\\Sri Assg\\\\taskfolder','C:\\\\Users\\\\Sri\\\\Downloads\\\\Newtaskfolder')\n"
   ]
  },
  {
   "cell_type": "code",
   "execution_count": null,
   "id": "87202e7c",
   "metadata": {},
   "outputs": [],
   "source": []
  }
 ],
 "metadata": {
  "kernelspec": {
   "display_name": "Python 3 (ipykernel)",
   "language": "python",
   "name": "python3"
  },
  "language_info": {
   "codemirror_mode": {
    "name": "ipython",
    "version": 3
   },
   "file_extension": ".py",
   "mimetype": "text/x-python",
   "name": "python",
   "nbconvert_exporter": "python",
   "pygments_lexer": "ipython3",
   "version": "3.9.7"
  }
 },
 "nbformat": 4,
 "nbformat_minor": 5
}
